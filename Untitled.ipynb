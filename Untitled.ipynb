{
 "cells": [
  {
   "cell_type": "code",
   "execution_count": 1,
   "id": "continent-advancement",
   "metadata": {},
   "outputs": [],
   "source": [
    "from tkinter import*\n",
    "def btnClick(numbers):\n",
    "    global operator\n",
    "    operator=operator+str(numbers)\n",
    "    text_Input.set(operator)\n",
    "def btnClearDisplay():\n",
    "    global operator\n",
    "    operator=\"\"\n",
    "    text_Input.set(\"\")\n",
    "def btnEqualsInput():\n",
    "    global operator\n",
    "    ans=str(eval(operator))\n",
    "    text_Input.set(ans)\n",
    "    operator=\"\"\n",
    "cal=Tk()\n",
    "cal.title(\"calculator\")\n",
    "operator=\"\"\n",
    "text_Input=StringVar()\n",
    "textDisplay=Entry(cal,font=('arial',20,'bold'),textvariable=text_Input,bd=30,insertwidth=4,bg=\"powder blue\",justify='right').grid(columnspan=4)\n",
    "btn7=Button(cal,padx=16,bd=8,fg=\"black\",font=('Algerian',20,'bold'),text=\"7\",bg='powder blue',command=lambda:btnClick(7)).grid(row=1,column=0)\n",
    "btn8=Button(cal,padx=16,bd=8,fg=\"black\",font=('Algerian',20,'bold'),text=\"8\",bg='powder blue',command=lambda:btnClick(8)).grid(row=1,column=1)\n",
    "btn9=Button(cal,padx=16,bd=8,fg=\"black\",font=('Algerian',20,'bold'),text=\"9\",bg='powder blue',command=lambda:btnClick(9)).grid(row=1,column=2)\n",
    "addition=Button(cal,padx=16,bd=8,fg=\"red\",font=('arial',20,'bold'),text=\"+\",bg='gold',command=lambda:btnClick(\"+\")).grid(row=1,column=3)\n",
    "btn4=Button(cal,padx=16,bd=8,fg=\"black\",font=('Algerian',20,'bold'),text=\"4\",bg='powder blue',command=lambda:btnClick(4)).grid(row=2,column=0)\n",
    "btn5=Button(cal,padx=16,bd=8,fg=\"black\",font=('Algerian',20,'bold'),text=\"5\",bg='powder blue',command=lambda:btnClick(5)).grid(row=2,column=1)\n",
    "btn6=Button(cal,padx=16,bd=8,fg=\"black\",font=('Algerian',20,'bold'),text=\"6\",bg='powder blue',command=lambda:btnClick(6)).grid(row=2,column=2)\n",
    "subtraction=Button(cal,padx=16,bd=8,fg=\"red\",font=('arial',20,'bold'),text=\"-\",bg='gold',command=lambda:btnClick(\"-\")).grid(row=2,column=3)\n",
    "btn1=Button(cal,padx=16,bd=8,fg=\"black\",font=('Algerian',20,'bold'),text=\"1\",bg='powder blue',command=lambda:btnClick(1)).grid(row=3,column=0)\n",
    "btn2=Button(cal,padx=16,bd=8,fg=\"black\",font=('Algerian',20,'bold'),text=\"2\",bg='powder blue',command=lambda:btnClick(2)).grid(row=3,column=1)\n",
    "btn3=Button(cal,padx=16,bd=8,fg=\"black\",font=('Algerian',20,'bold'),text=\"3\",bg='powder blue',command=lambda:btnClick(3)).grid(row=3,column=2)\n",
    "multiplication=Button(cal,padx=16,bd=8,fg=\"red\",font=('arial',20,'bold'),text=\"x\",bg='gold',command=lambda:btnClick(\"*\")).grid(row=3,column=3)\n",
    "clear=Button(cal,padx=16,bd=8,fg=\"red\",font=('Algerian',20,'bold'),text=\"c\",bg='gold',command=btnClearDisplay).grid(row=4,column=0)\n",
    "btn0=Button(cal,padx=16,bd=8,fg=\"black\",font=('Algerian',20,'bold'),text=\"0\",bg='powder blue',command=lambda:btnClick(0)).grid(row=4,column=1)\n",
    "divide=Button(cal,padx=16,bd=8,fg=\"red\",font=('arial',20,'bold'),text=\"÷\",bg='gold',command=lambda:btnClick(\"/\")).grid(row=4,column=2)\n",
    "equalsto=Button(cal,padx=16,bd=8,fg=\"red\",font=('arial',20,'bold'),text=\"=\",bg='gold',command=btnEqualsInput).grid(row=4,column=3)\n",
    "\n",
    "\n",
    "\n",
    "\n",
    "cal.mainloop()"
   ]
  }
 ],
 "metadata": {
  "kernelspec": {
   "display_name": "Python 3",
   "language": "python",
   "name": "python3"
  },
  "language_info": {
   "codemirror_mode": {
    "name": "ipython",
    "version": 3
   },
   "file_extension": ".py",
   "mimetype": "text/x-python",
   "name": "python",
   "nbconvert_exporter": "python",
   "pygments_lexer": "ipython3",
   "version": "3.8.7"
  }
 },
 "nbformat": 4,
 "nbformat_minor": 5
}
